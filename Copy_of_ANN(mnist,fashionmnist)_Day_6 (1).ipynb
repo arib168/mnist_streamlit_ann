{
  "nbformat": 4,
  "nbformat_minor": 0,
  "metadata": {
    "colab": {
      "name": "Copy of ANN(mnist,fashionmnist) Day 6.ipynb",
      "provenance": [],
      "collapsed_sections": []
    },
    "kernelspec": {
      "name": "python3",
      "display_name": "Python 3"
    },
    "language_info": {
      "name": "python"
    },
    "accelerator": "GPU"
  },
  "cells": [
    {
      "cell_type": "markdown",
      "metadata": {
        "id": "H-H-BdTYHan6"
      },
      "source": [
        "**MNIST CLASSIFICATION USING ARTIFICIAL NEURAL NETWORKS**"
      ]
    },
    {
      "cell_type": "markdown",
      "metadata": {
        "id": "3ACO1jj33-Cj"
      },
      "source": [
        "To create a webapp using streamlit run the below code "
      ]
    },
    {
      "cell_type": "code",
      "metadata": {
        "id": "Jztn8JiC4Ifi"
      },
      "source": [
        "#Download the model_digit.hdf5 file from the github repository and upload it to session storage \n",
        "# LINK TO DOWNLOAD THE GITHUB REPOSITORY\n",
        "# https://github.com/arib168/mnist_streamlit_ann.git"
      ],
      "execution_count": null,
      "outputs": []
    },
    {
      "cell_type": "code",
      "metadata": {
        "colab": {
          "base_uri": "https://localhost:8080/"
        },
        "id": "nVJLpYxJY9X4",
        "outputId": "149604de-1a3c-4798-ad42-1671d52a2505"
      },
      "source": [
        "#Installing all the softwares and libraries to create the web app on streamlit \n",
        "!pip install streamlit==0.83.0 --quiet\n",
        "!pip install pyngrok==4.1.1 --quiet\n",
        "!pip install streamlit-drawable-canvas --quiet\n",
        "from pyngrok import ngrok "
      ],
      "execution_count": null,
      "outputs": [
        {
          "output_type": "stream",
          "name": "stdout",
          "text": [
            "\u001b[K     |████████████████████████████████| 7.7 MB 4.2 MB/s \n",
            "\u001b[K     |████████████████████████████████| 111 kB 52.6 MB/s \n",
            "\u001b[K     |████████████████████████████████| 180 kB 46.4 MB/s \n",
            "\u001b[K     |████████████████████████████████| 76 kB 5.3 MB/s \n",
            "\u001b[K     |████████████████████████████████| 4.3 MB 28.3 MB/s \n",
            "\u001b[K     |████████████████████████████████| 125 kB 50.6 MB/s \n",
            "\u001b[K     |████████████████████████████████| 790 kB 35.1 MB/s \n",
            "\u001b[K     |████████████████████████████████| 374 kB 42.4 MB/s \n",
            "\u001b[K     |████████████████████████████████| 63 kB 1.6 MB/s \n",
            "\u001b[?25h  Building wheel for blinker (setup.py) ... \u001b[?25l\u001b[?25hdone\n",
            "\u001b[31mERROR: pip's dependency resolver does not currently take into account all the packages that are installed. This behaviour is the source of the following dependency conflicts.\n",
            "jupyter-console 5.2.0 requires prompt-toolkit<2.0.0,>=1.0.0, but you have prompt-toolkit 3.0.22 which is incompatible.\n",
            "google-colab 1.0.0 requires ipykernel~=4.10, but you have ipykernel 6.5.0 which is incompatible.\n",
            "google-colab 1.0.0 requires ipython~=5.5.0, but you have ipython 7.29.0 which is incompatible.\u001b[0m\n",
            "  Building wheel for pyngrok (setup.py) ... \u001b[?25l\u001b[?25hdone\n",
            "\u001b[K     |████████████████████████████████| 1.3 MB 4.2 MB/s \n",
            "\u001b[?25h"
          ]
        }
      ]
    },
    {
      "cell_type": "code",
      "metadata": {
        "id": "q2mqYMTzZSit",
        "colab": {
          "base_uri": "https://localhost:8080/"
        },
        "outputId": "90711165-a431-4ce6-ba52-d39abb5642b1"
      },
      "source": [
        "%%writefile app.py \n",
        "import streamlit as st\n",
        "import numpy as np\n",
        "from streamlit_drawable_canvas import st_canvas\n",
        "from tensorflow import keras\n",
        "import cv2\n",
        "model = keras.models.load_model('model_digit.hdf5',compile=False)#Boolean, whether to compile the model after loading.\n",
        "\n",
        "st.title(\"MNIST Image Classification using ANN\")\n",
        "st.subheader(\"Draw the handwritten digit in the below given space and click on PREDICT\")\n",
        "col1, col2 = st.beta_columns(2)\n",
        "\n",
        "with col1:  #col1 givs original image\n",
        "  st.write('Original Image')\n",
        "  canvas_result = st_canvas(fill_color='#000000',stroke_width=20,stroke_color='#2121b0',\n",
        "      background_color='#000000',width=225,height=225,drawing_mode=\"freedraw\")\n",
        "\n",
        "with col2:\n",
        "  if canvas_result.image_data is not None: #if there is something drawn then, follow next steps\n",
        "      img = cv2.resize(canvas_result.image_data.astype('uint8'), (28, 28)) #resize to 28 *28 \n",
        "      rescaled = cv2.resize(img, (225, 225)) #zoom in #it is blurred now\n",
        "      st.write('Rescaled Image')\n",
        "      st.image(rescaled)\n",
        "\n",
        "if st.button('Predict'):\n",
        "    test_x = cv2.cvtColor(img, cv2.COLOR_BGR2GRAY)# Converting color to gray\n",
        "    test_x = np.expand_dims(test_x,axis=0) # Flattening of image\n",
        "    val = model.predict(test_x)\n",
        "    st.title(f'Result: {np.argmax(val[0])}') # prints the value with highest probability index\n",
        "    st.bar_chart(val[0])"
      ],
      "execution_count": null,
      "outputs": [
        {
          "output_type": "stream",
          "name": "stdout",
          "text": [
            "Overwriting app.py\n"
          ]
        }
      ]
    },
    {
      "cell_type": "code",
      "metadata": {
        "id": "H2PbV7Wv48nO"
      },
      "source": [
        "!nohup streamlit run app.py &   # run the webapp continuously in the background "
      ],
      "execution_count": null,
      "outputs": []
    },
    {
      "cell_type": "code",
      "metadata": {
        "colab": {
          "base_uri": "https://localhost:8080/"
        },
        "id": "FyqVz5pWcRl7",
        "outputId": "269d1644-28b3-4e5a-fc3c-7c345e70d937"
      },
      "source": [
        "\n",
        "public_url = ngrok.connect(port ='8501')   # connect to the ngrok client using 8501 port for streamlit \n",
        "print(public_url)"
      ],
      "execution_count": null,
      "outputs": [
        {
          "output_type": "stream",
          "name": "stdout",
          "text": [
            "nohup: appending output to 'nohup.out'\n",
            "http://7277-34-80-3-53.ngrok.io\n"
          ]
        }
      ]
    }
  ]
}